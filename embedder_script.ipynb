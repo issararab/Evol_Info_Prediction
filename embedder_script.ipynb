{
 "cells": [
  {
   "cell_type": "code",
   "execution_count": 1,
   "metadata": {},
   "outputs": [],
   "source": [
    "from utils.seq_evol_embedder import embedder, getSeqEvoLmEmbeddings\n",
    "\n",
    "##Input\n",
    "batch = [\"PROTEIN\",\"SEQWENCE\"] #Takes a list of strings/sequences or just one string/sequence\n",
    "#batch = \"PROTEIN\" \n",
    "\n",
    "##Generate embeddings\n",
    "#Returns a list of pytorch tensors embedding the sequences of length (3,L,512)\n",
    "embeddings = getSeqEvoLmEmbeddings(embedder,batch)"
   ]
  },
  {
   "cell_type": "code",
   "execution_count": 2,
   "metadata": {},
   "outputs": [
    {
     "data": {
      "text/plain": [
       "2"
      ]
     },
     "execution_count": 2,
     "metadata": {},
     "output_type": "execute_result"
    }
   ],
   "source": [
    "len(embeddings)"
   ]
  },
  {
   "cell_type": "code",
   "execution_count": 3,
   "metadata": {},
   "outputs": [
    {
     "data": {
      "text/plain": [
       "torch.Size([3, 7, 512])"
      ]
     },
     "execution_count": 3,
     "metadata": {},
     "output_type": "execute_result"
    }
   ],
   "source": [
    "embeddings[0].shape"
   ]
  },
  {
   "cell_type": "code",
   "execution_count": 4,
   "metadata": {},
   "outputs": [
    {
     "data": {
      "text/plain": [
       "tensor([[-0.0364,  0.0250,  0.0143,  ...,  0.0043,  0.0093, -0.0512],\n",
       "        [-0.0060, -0.0094,  0.0365,  ..., -0.0537, -0.0663, -0.1020],\n",
       "        [ 1.0347,  1.0854,  0.6245,  ...,  0.3899,  0.1666, -0.2796],\n",
       "        ...,\n",
       "        [-0.0241, -0.0018,  0.0077,  ..., -0.1280, -0.0244, -0.0551],\n",
       "        [ 0.0357,  0.0893,  0.0157,  ...,  0.0049, -0.0119,  0.0118],\n",
       "        [-0.0050,  0.0465,  0.0361,  ...,  0.0159, -0.0764, -0.0935]],\n",
       "       grad_fn=<SelectBackward>)"
      ]
     },
     "execution_count": 4,
     "metadata": {},
     "output_type": "execute_result"
    }
   ],
   "source": [
    "embeddings[0][0]"
   ]
  },
  {
   "cell_type": "code",
   "execution_count": null,
   "metadata": {},
   "outputs": [],
   "source": []
  }
 ],
 "metadata": {
  "kernelspec": {
   "display_name": "Python 3",
   "language": "python",
   "name": "python3"
  },
  "language_info": {
   "codemirror_mode": {
    "name": "ipython",
    "version": 3
   },
   "file_extension": ".py",
   "mimetype": "text/x-python",
   "name": "python",
   "nbconvert_exporter": "python",
   "pygments_lexer": "ipython3",
   "version": "3.6.5"
  }
 },
 "nbformat": 4,
 "nbformat_minor": 2
}
