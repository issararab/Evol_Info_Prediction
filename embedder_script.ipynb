{
 "cells": [
  {
   "cell_type": "code",
   "execution_count": null,
   "metadata": {},
   "outputs": [],
   "source": [
    "from pathlib import Path\n",
    "import torch\n",
    "from utils.seq_evo_lm_data_loader import getSeqVecEmbeddings\n",
    "from model.embedder_architecture import SeqEvoLM\n",
    "\n",
    "config = {\n",
    "    'hidden_size': 2048,\n",
    "    'projection_size': 256,\n",
    "    'dropout_rate': 0.1,\n",
    "    'max_seq_len_for_TBPTT': 290,\n",
    "    'loss_harmony_weight': 0.75,\n",
    "    'clip_norm_value': 1.0,\n",
    "    'model_name': 'multitask_lm_weights',\n",
    "    'use_GPU': True\n",
    "\n",
    "}\n",
    "\n",
    "def SeqEvoLmEmbedder(options):\n",
    "    if options['use_GPU']:\n",
    "        ##Check for GPU\n",
    "        device = torch.device('cuda' if torch.cuda.is_available() else 'cpu')\n",
    "    model = SeqEvoLM(device_resource=device,hidden_size=options['hidden_size'],projection_size=options['projection_size'],dropout_rate=options['dropout_rate'])\n",
    "    ### Load saved model weights\n",
    "    thesis_model_dir = Path('seq_evo_lm')\n",
    "    path = Path.joinpath(thesis_model_dir, options['model_name']+ '.pt')\n",
    "    model.load_state_dict(torch.load(path))\n",
    "    model = model.to(device)\n",
    "    model.eval()\n",
    "    return model\n",
    "\n",
    "def getSeqEvoLmEmbeddings(SeqEvoLmEmbedder,batch): #Function takes one string or a list of strings passed to the argument 'batch'\n",
    "    uncon_xx_pad, con_xx_pad, xx_lens, original_indices = getSeqVecEmbeddings(batch)\n",
    "    embeddings = SeqEvoLmEmbedder(uncon_xx_pad, con_xx_pad, xx_lens)\n",
    "    embeddings = [embeddings[i] for i in original_indices]\n",
    "    return embeddings"
   ]
  },
  {
   "cell_type": "code",
   "execution_count": null,
   "metadata": {},
   "outputs": [],
   "source": [
    "##Load the Sequence Evolution Language Model Embedder\n",
    "embedder = SeqEvoLmEmbedder(config)"
   ]
  },
  {
   "cell_type": "code",
   "execution_count": null,
   "metadata": {},
   "outputs": [],
   "source": [
    "##Input\n",
    "batch = [\"PROTEIN\",\"SEQWENCE\"] #Takes a list of strings/sequences or just one string/sequence\n",
    "#batch = \"PROTEIN\" \n",
    "\n",
    "##Generate embeddings\n",
    "embeddings = getSeqEvoLmEmbeddings(embedder,batch)"
   ]
  },
  {
   "cell_type": "code",
   "execution_count": null,
   "metadata": {},
   "outputs": [],
   "source": []
  }
 ],
 "metadata": {
  "kernelspec": {
   "display_name": "Python 3",
   "language": "python",
   "name": "python3"
  },
  "language_info": {
   "codemirror_mode": {
    "name": "ipython",
    "version": 3
   },
   "file_extension": ".py",
   "mimetype": "text/x-python",
   "name": "python",
   "nbconvert_exporter": "python",
   "pygments_lexer": "ipython3",
   "version": "3.6.5"
  }
 },
 "nbformat": 4,
 "nbformat_minor": 2
}
